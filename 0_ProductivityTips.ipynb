{
 "cells": [
  {
   "cell_type": "markdown",
   "source": [
    "[![Binder](https://mybinder.org/badge_logo.svg)](https://mybinder.org/v2/gh/yingwang-git/R_StatisticAnalysis/HEAD?filepath=0_ProductivityTips.ipynb)\n",
    "\n",
    "**Click above button to run code online. It may take a long time to load.**"
   ],
   "metadata": {
    "collapsed": false,
    "pycharm": {
     "name": "#%% md\n"
    }
   }
  },
  {
   "cell_type": "markdown",
   "source": [
    "# Some Useful Usages in R"
   ],
   "metadata": {
    "collapsed": false
   }
  },
  {
   "cell_type": "markdown",
   "source": [
    "## Read multiple files"
   ],
   "metadata": {
    "collapsed": false
   }
  },
  {
   "cell_type": "code",
   "execution_count": 32,
   "outputs": [],
   "source": [
    "# read multiple csv files in one time\n",
    "data_list <- list(\"cars.csv\", \"Boston.csv\")  # names of data files\n",
    "name_list <- list(\"data_cars\", \"data_Boston\")  # names assigned to data files in R"
   ],
   "metadata": {
    "collapsed": false,
    "pycharm": {
     "name": "#%%\n"
    }
   }
  },
  {
   "cell_type": "code",
   "execution_count": 33,
   "outputs": [],
   "source": [
    "# use paste0 to combine the folder and file name.\n",
    "for(i in seq_along(data_list)){\n",
    "  assign(name_list[[i]], read.csv(paste0(\"data/\", data_list[[i]]), header = T))\n",
    "}"
   ],
   "metadata": {
    "collapsed": false,
    "pycharm": {
     "name": "#%%\n"
    }
   }
  },
  {
   "cell_type": "code",
   "execution_count": 34,
   "metadata": {},
   "outputs": [
    {
     "data": {
      "text/html": "<style>\n.list-inline {list-style: none; margin:0; padding: 0}\n.list-inline>li {display: inline-block}\n.list-inline>li:not(:last-child)::after {content: \"\\00b7\"; padding: 0 .5ex}\n</style>\n<ol class=list-inline><li>'data_Bostone'</li><li>'data_cars'</li><li>'data_list'</li><li>'i'</li><li>'name_list'</li></ol>\n",
      "text/markdown": "1. 'data_Bostone'\n2. 'data_cars'\n3. 'data_list'\n4. 'i'\n5. 'name_list'\n\n\n",
      "text/latex": "\\begin{enumerate*}\n\\item 'data\\_Bostone'\n\\item 'data\\_cars'\n\\item 'data\\_list'\n\\item 'i'\n\\item 'name\\_list'\n\\end{enumerate*}\n",
      "text/plain": "[1] \"data_Bostone\" \"data_cars\"    \"data_list\"    \"i\"            \"name_list\"   "
     },
     "metadata": {},
     "output_type": "display_data"
    }
   ],
   "source": [
    "# see all objects in the workspace\n",
    "# all csv files were sucessfully imported.\n",
    "ls()"
   ]
  },
  {
   "cell_type": "code",
   "execution_count": 35,
   "outputs": [
    {
     "data": {
      "text/plain": "data_Bostone : 'data.frame':\t506 obs. of  14 variables:\n $ crim   : num  0.00632 0.02731 0.02729 0.03237 0.06905 ...\n $ zn     : num  18 0 0 0 0 0 12.5 12.5 12.5 12.5 ...\n $ indus  : num  2.31 7.07 7.07 2.18 2.18 2.18 7.87 7.87 7.87 7.87 ...\n $ chas   : int  0 0 0 0 0 0 0 0 0 0 ...\n $ nox    : num  0.538 0.469 0.469 0.458 0.458 0.458 0.524 0.524 0.524 0.524 ...\n $ rm     : num  6.58 6.42 7.18 7 7.15 ...\n $ age    : num  65.2 78.9 61.1 45.8 54.2 58.7 66.6 96.1 100 85.9 ...\n $ dis    : num  4.09 4.97 4.97 6.06 6.06 ...\n $ rad    : int  1 2 2 3 3 3 5 5 5 5 ...\n $ tax    : int  296 242 242 222 222 222 311 311 311 311 ...\n $ ptratio: num  15.3 17.8 17.8 18.7 18.7 18.7 15.2 15.2 15.2 15.2 ...\n $ black  : num  397 397 393 395 397 ...\n $ lstat  : num  4.98 9.14 4.03 2.94 5.33 ...\n $ medv   : num  24 21.6 34.7 33.4 36.2 28.7 22.9 27.1 16.5 18.9 ...\ndata_cars : 'data.frame':\t50 obs. of  2 variables:\n $ speed: int  4 4 7 7 8 9 10 10 10 11 ...\n $ dist : int  2 10 4 22 16 10 18 26 34 17 ...\ndata_list : List of 2\n $ : chr \"cars.csv\"\n $ : chr \"Boston.csv\"\ni :  int 2\nname_list : List of 2\n $ : chr \"data_cars\"\n $ : chr \"data_Bostone\""
     },
     "metadata": {},
     "output_type": "display_data"
    }
   ],
   "source": [
    "# see more details\n",
    "ls.str()"
   ],
   "metadata": {
    "collapsed": false,
    "pycharm": {
     "name": "#%%\n"
    }
   }
  }
 ],
 "metadata": {
  "kernelspec": {
   "display_name": "R",
   "language": "R",
   "name": "ir"
  },
  "language_info": {
   "codemirror_mode": "r",
   "file_extension": ".r",
   "mimetype": "text/x-r-source",
   "name": "R",
   "pygments_lexer": "r",
   "version": "4.1.3"
  },
  "toc": {
   "base_numbering": 1,
   "nav_menu": {},
   "number_sections": true,
   "sideBar": true,
   "skip_h1_title": false,
   "title_cell": "Table of Contents",
   "title_sidebar": "Contents",
   "toc_cell": false,
   "toc_position": {},
   "toc_section_display": true,
   "toc_window_display": false
  }
 },
 "nbformat": 4,
 "nbformat_minor": 1
}