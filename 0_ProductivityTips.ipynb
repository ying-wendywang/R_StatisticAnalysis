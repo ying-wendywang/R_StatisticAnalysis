{
 "cells": [
  {
   "cell_type": "markdown",
   "source": [
    "[![Binder](https://mybinder.org/badge_logo.svg)](https://mybinder.org/v2/gh/yingwang-git/R_StatisticAnalysis/HEAD?filepath=0_ProductivityTips.ipynb)\n",
    "\n",
    "**Click above button to run code online. It may take a long time to load.**"
   ],
   "metadata": {
    "collapsed": false,
    "pycharm": {
     "name": "#%% md\n"
    }
   }
  },
  {
   "cell_type": "markdown",
   "source": [
    "# Some Useful Usages in R"
   ],
   "metadata": {
    "collapsed": false
   }
  },
  {
   "cell_type": "markdown",
   "source": [
    "## Read multiple files"
   ],
   "metadata": {
    "collapsed": false
   }
  },
  {
   "cell_type": "code",
   "execution_count": 1,
   "outputs": [],
   "source": [
    "# read multiple csv files in one time\n",
    "data_list <- list(\"cars.csv\", \"Boston.csv\")  # names of data files\n",
    "name_list <- list(\"data_cars\", \"data_Boston\")  # names assigned to data files in R"
   ],
   "metadata": {
    "collapsed": false,
    "pycharm": {
     "name": "#%%\n"
    }
   }
  },
  {
   "cell_type": "code",
   "execution_count": 33,
   "outputs": [],
   "source": [
    "# use paste0 to combine the folder and file name.\n",
    "for(i in seq_along(data_list)){\n",
    "  assign(name_list[[i]], read.csv(paste0(\"data/\", data_list[[i]]), header = T))\n",
    "}"
   ],
   "metadata": {
    "collapsed": false,
    "pycharm": {
     "name": "#%%\n"
    }
   }
  },
  {
   "cell_type": "code",
   "execution_count": 34,
   "metadata": {},
   "outputs": [
    {
     "data": {
      "text/html": "<style>\n.list-inline {list-style: none; margin:0; padding: 0}\n.list-inline>li {display: inline-block}\n.list-inline>li:not(:last-child)::after {content: \"\\00b7\"; padding: 0 .5ex}\n</style>\n<ol class=list-inline><li>'data_Bostone'</li><li>'data_cars'</li><li>'data_list'</li><li>'i'</li><li>'name_list'</li></ol>\n",
      "text/markdown": "1. 'data_Bostone'\n2. 'data_cars'\n3. 'data_list'\n4. 'i'\n5. 'name_list'\n\n\n",
      "text/latex": "\\begin{enumerate*}\n\\item 'data\\_Bostone'\n\\item 'data\\_cars'\n\\item 'data\\_list'\n\\item 'i'\n\\item 'name\\_list'\n\\end{enumerate*}\n",
      "text/plain": "[1] \"data_Bostone\" \"data_cars\"    \"data_list\"    \"i\"            \"name_list\"   "
     },
     "metadata": {},
     "output_type": "display_data"
    }
   ],
   "source": [
    "# see all objects in the workspace\n",
    "# all csv files were sucessfully imported.\n",
    "ls()"
   ]
  },
  {
   "cell_type": "code",
   "execution_count": 35,
   "outputs": [
    {
     "data": {
      "text/plain": "data_Bostone : 'data.frame':\t506 obs. of  14 variables:\n $ crim   : num  0.00632 0.02731 0.02729 0.03237 0.06905 ...\n $ zn     : num  18 0 0 0 0 0 12.5 12.5 12.5 12.5 ...\n $ indus  : num  2.31 7.07 7.07 2.18 2.18 2.18 7.87 7.87 7.87 7.87 ...\n $ chas   : int  0 0 0 0 0 0 0 0 0 0 ...\n $ nox    : num  0.538 0.469 0.469 0.458 0.458 0.458 0.524 0.524 0.524 0.524 ...\n $ rm     : num  6.58 6.42 7.18 7 7.15 ...\n $ age    : num  65.2 78.9 61.1 45.8 54.2 58.7 66.6 96.1 100 85.9 ...\n $ dis    : num  4.09 4.97 4.97 6.06 6.06 ...\n $ rad    : int  1 2 2 3 3 3 5 5 5 5 ...\n $ tax    : int  296 242 242 222 222 222 311 311 311 311 ...\n $ ptratio: num  15.3 17.8 17.8 18.7 18.7 18.7 15.2 15.2 15.2 15.2 ...\n $ black  : num  397 397 393 395 397 ...\n $ lstat  : num  4.98 9.14 4.03 2.94 5.33 ...\n $ medv   : num  24 21.6 34.7 33.4 36.2 28.7 22.9 27.1 16.5 18.9 ...\ndata_cars : 'data.frame':\t50 obs. of  2 variables:\n $ speed: int  4 4 7 7 8 9 10 10 10 11 ...\n $ dist : int  2 10 4 22 16 10 18 26 34 17 ...\ndata_list : List of 2\n $ : chr \"cars.csv\"\n $ : chr \"Boston.csv\"\ni :  int 2\nname_list : List of 2\n $ : chr \"data_cars\"\n $ : chr \"data_Bostone\""
     },
     "metadata": {},
     "output_type": "display_data"
    }
   ],
   "source": [
    "# see more details\n",
    "ls.str()"
   ],
   "metadata": {
    "collapsed": false,
    "pycharm": {
     "name": "#%%\n"
    }
   }
  },
  {
   "cell_type": "markdown",
   "source": [
    "## Run multiple models in one time"
   ],
   "metadata": {
    "collapsed": false,
    "pycharm": {
     "name": "#%% md\n"
    }
   }
  },
  {
   "cell_type": "code",
   "execution_count": 2,
   "outputs": [],
   "source": [
    "# create simulating data\n",
    "set.seed(2022)\n",
    "data <- data.frame(y1 = rnorm(n = 200, mean = 10, sd = 5),\n",
    "                   y2 = rnorm(n = 200, mean = 15, sd = 10),\n",
    "                   y3 = rnorm(n = 200, mean = 12, sd = 10),\n",
    "                   x1 = runif(n = 200, min = 0, max = 100),\n",
    "                   x2 = runif(n = 200, min = 0, max = 2100),\n",
    "                   x3 = runif(n = 200, min = 50, max = 200)\n",
    ")"
   ],
   "metadata": {
    "collapsed": false,
    "pycharm": {
     "name": "#%%\n"
    }
   }
  },
  {
   "cell_type": "code",
   "execution_count": 4,
   "outputs": [
    {
     "data": {
      "text/html": "<table class=\"dataframe\">\n<caption>A data.frame: 6 × 6</caption>\n<thead>\n\t<tr><th></th><th scope=col>y1</th><th scope=col>y2</th><th scope=col>y3</th><th scope=col>x1</th><th scope=col>x2</th><th scope=col>x3</th></tr>\n\t<tr><th></th><th scope=col>&lt;dbl&gt;</th><th scope=col>&lt;dbl&gt;</th><th scope=col>&lt;dbl&gt;</th><th scope=col>&lt;dbl&gt;</th><th scope=col>&lt;dbl&gt;</th><th scope=col>&lt;dbl&gt;</th></tr>\n</thead>\n<tbody>\n\t<tr><th scope=row>1</th><td>14.500710</td><td>18.764746</td><td>20.25341</td><td>64.64432</td><td> 447.0848</td><td>135.61489</td></tr>\n\t<tr><th scope=row>2</th><td> 4.133271</td><td>13.054604</td><td>-9.50715</td><td>56.08430</td><td> 177.6777</td><td>165.73911</td></tr>\n\t<tr><th scope=row>3</th><td> 5.512573</td><td>-6.153360</td><td>14.75747</td><td>44.13558</td><td> 255.8928</td><td> 80.86820</td></tr>\n\t<tr><th scope=row>4</th><td> 2.777493</td><td> 5.869326</td><td>22.67206</td><td>71.54717</td><td> 750.2817</td><td>137.52002</td></tr>\n\t<tr><th scope=row>5</th><td> 8.344932</td><td>18.497093</td><td>29.19872</td><td>47.93445</td><td> 347.8567</td><td> 67.66569</td></tr>\n\t<tr><th scope=row>6</th><td>-4.503145</td><td>19.055771</td><td>14.99965</td><td>56.57396</td><td>1904.4356</td><td>162.99925</td></tr>\n</tbody>\n</table>\n",
      "text/markdown": "\nA data.frame: 6 × 6\n\n| <!--/--> | y1 &lt;dbl&gt; | y2 &lt;dbl&gt; | y3 &lt;dbl&gt; | x1 &lt;dbl&gt; | x2 &lt;dbl&gt; | x3 &lt;dbl&gt; |\n|---|---|---|---|---|---|---|\n| 1 | 14.500710 | 18.764746 | 20.25341 | 64.64432 |  447.0848 | 135.61489 |\n| 2 |  4.133271 | 13.054604 | -9.50715 | 56.08430 |  177.6777 | 165.73911 |\n| 3 |  5.512573 | -6.153360 | 14.75747 | 44.13558 |  255.8928 |  80.86820 |\n| 4 |  2.777493 |  5.869326 | 22.67206 | 71.54717 |  750.2817 | 137.52002 |\n| 5 |  8.344932 | 18.497093 | 29.19872 | 47.93445 |  347.8567 |  67.66569 |\n| 6 | -4.503145 | 19.055771 | 14.99965 | 56.57396 | 1904.4356 | 162.99925 |\n\n",
      "text/latex": "A data.frame: 6 × 6\n\\begin{tabular}{r|llllll}\n  & y1 & y2 & y3 & x1 & x2 & x3\\\\\n  & <dbl> & <dbl> & <dbl> & <dbl> & <dbl> & <dbl>\\\\\n\\hline\n\t1 & 14.500710 & 18.764746 & 20.25341 & 64.64432 &  447.0848 & 135.61489\\\\\n\t2 &  4.133271 & 13.054604 & -9.50715 & 56.08430 &  177.6777 & 165.73911\\\\\n\t3 &  5.512573 & -6.153360 & 14.75747 & 44.13558 &  255.8928 &  80.86820\\\\\n\t4 &  2.777493 &  5.869326 & 22.67206 & 71.54717 &  750.2817 & 137.52002\\\\\n\t5 &  8.344932 & 18.497093 & 29.19872 & 47.93445 &  347.8567 &  67.66569\\\\\n\t6 & -4.503145 & 19.055771 & 14.99965 & 56.57396 & 1904.4356 & 162.99925\\\\\n\\end{tabular}\n",
      "text/plain": "  y1        y2        y3       x1       x2        x3       \n1 14.500710 18.764746 20.25341 64.64432  447.0848 135.61489\n2  4.133271 13.054604 -9.50715 56.08430  177.6777 165.73911\n3  5.512573 -6.153360 14.75747 44.13558  255.8928  80.86820\n4  2.777493  5.869326 22.67206 71.54717  750.2817 137.52002\n5  8.344932 18.497093 29.19872 47.93445  347.8567  67.66569\n6 -4.503145 19.055771 14.99965 56.57396 1904.4356 162.99925"
     },
     "metadata": {},
     "output_type": "display_data"
    }
   ],
   "source": [
    "# see the first columns of the simulating data\n",
    "head(data)"
   ],
   "metadata": {
    "collapsed": false,
    "pycharm": {
     "name": "#%%\n"
    }
   }
  },
  {
   "cell_type": "markdown",
   "source": [
    "### Same Y, different Xs"
   ],
   "metadata": {
    "collapsed": false
   }
  },
  {
   "cell_type": "code",
   "execution_count": 7,
   "outputs": [
    {
     "name": "stdout",
     "output_type": "stream",
     "text": [
      "[1] \"x1\"\n",
      "\n",
      "Call:\n",
      "lm(formula = y1 ~ data[[i]], data = data)\n",
      "\n",
      "Residuals:\n",
      "     Min       1Q   Median       3Q      Max \n",
      "-14.4525  -3.7203   0.2322   3.9946  14.7903 \n",
      "\n",
      "Coefficients:\n",
      "            Estimate Std. Error t value Pr(>|t|)    \n",
      "(Intercept)  9.18386    0.76040  12.078   <2e-16 ***\n",
      "data[[i]]    0.01353    0.01372   0.986    0.325    \n",
      "---\n",
      "Signif. codes:  0 '***' 0.001 '**' 0.01 '*' 0.05 '.' 0.1 ' ' 1\n",
      "\n",
      "Residual standard error: 5.152 on 198 degrees of freedom\n",
      "Multiple R-squared:  0.004889,\tAdjusted R-squared:  -0.0001365 \n",
      "F-statistic: 0.9728 on 1 and 198 DF,  p-value: 0.3252\n",
      "\n",
      "[1] \"x2\"\n",
      "\n",
      "Call:\n",
      "lm(formula = y1 ~ data[[i]], data = data)\n",
      "\n",
      "Residuals:\n",
      "    Min      1Q  Median      3Q     Max \n",
      "-14.642  -4.165   0.302   4.168  14.230 \n",
      "\n",
      "Coefficients:\n",
      "             Estimate Std. Error t value Pr(>|t|)    \n",
      "(Intercept) 9.4485277  0.7432691  12.712   <2e-16 ***\n",
      "data[[i]]   0.0003624  0.0005961   0.608    0.544    \n",
      "---\n",
      "Signif. codes:  0 '***' 0.001 '**' 0.01 '*' 0.05 '.' 0.1 ' ' 1\n",
      "\n",
      "Residual standard error: 5.16 on 198 degrees of freedom\n",
      "Multiple R-squared:  0.001863,\tAdjusted R-squared:  -0.003178 \n",
      "F-statistic: 0.3696 on 1 and 198 DF,  p-value: 0.5439\n",
      "\n",
      "[1] \"x3\"\n",
      "\n",
      "Call:\n",
      "lm(formula = y1 ~ data[[i]], data = data)\n",
      "\n",
      "Residuals:\n",
      "     Min       1Q   Median       3Q      Max \n",
      "-15.0350  -3.6562   0.3768   3.7988  14.7514 \n",
      "\n",
      "Coefficients:\n",
      "            Estimate Std. Error t value Pr(>|t|)    \n",
      "(Intercept) 7.551933   1.151245   6.560  4.6e-10 ***\n",
      "data[[i]]   0.018282   0.008726   2.095   0.0374 *  \n",
      "---\n",
      "Signif. codes:  0 '***' 0.001 '**' 0.01 '*' 0.05 '.' 0.1 ' ' 1\n",
      "\n",
      "Residual standard error: 5.108 on 198 degrees of freedom\n",
      "Multiple R-squared:  0.02169,\tAdjusted R-squared:  0.01675 \n",
      "F-statistic:  4.39 on 1 and 198 DF,  p-value: 0.03743\n",
      "\n"
     ]
    }
   ],
   "source": [
    "# model 1: y1 ~ x1\n",
    "# model 2: y1 ~ x2\n",
    "# model 3: y1 ~ x3\n",
    "\n",
    "for (i in 4:6){  # Xs in columns 4-6\n",
    "  print(names(data[i]))\n",
    "  lm <- lm(y1 ~ data[[i]], data = data)  # can add control variables. e.g. data[[i]] + control1 + control2\n",
    "  result <- summary(lm)\n",
    "  print(result)\n",
    "}"
   ],
   "metadata": {
    "collapsed": false,
    "pycharm": {
     "name": "#%%\n"
    }
   }
  },
  {
   "cell_type": "markdown",
   "source": [
    "## Same X, different Ys"
   ],
   "metadata": {
    "collapsed": false,
    "pycharm": {
     "name": "#%% md\n"
    }
   }
  },
  {
   "cell_type": "code",
   "execution_count": 8,
   "outputs": [
    {
     "name": "stdout",
     "output_type": "stream",
     "text": [
      "[1] \"y1\"\n",
      "\n",
      "Call:\n",
      "lm(formula = data[[i]] ~ x1 + x2 + x3, data = data)\n",
      "\n",
      "Residuals:\n",
      "     Min       1Q   Median       3Q      Max \n",
      "-15.4871  -3.6213   0.3281   4.0184  14.4518 \n",
      "\n",
      "Coefficients:\n",
      "             Estimate Std. Error t value Pr(>|t|)    \n",
      "(Intercept) 6.5400836  1.4812961   4.415 1.67e-05 ***\n",
      "x1          0.0118962  0.0137922   0.863   0.3894    \n",
      "x2          0.0004632  0.0005955   0.778   0.4376    \n",
      "x3          0.0177226  0.0087930   2.016   0.0452 *  \n",
      "---\n",
      "Signif. codes:  0 '***' 0.001 '**' 0.01 '*' 0.05 '.' 0.1 ' ' 1\n",
      "\n",
      "Residual standard error: 5.119 on 196 degrees of freedom\n",
      "Multiple R-squared:  0.02771,\tAdjusted R-squared:  0.01282 \n",
      "F-statistic: 1.862 on 3 and 196 DF,  p-value: 0.1374\n",
      "\n",
      "[1] \"y2\"\n",
      "\n",
      "Call:\n",
      "lm(formula = data[[i]] ~ x1 + x2 + x3, data = data)\n",
      "\n",
      "Residuals:\n",
      "     Min       1Q   Median       3Q      Max \n",
      "-24.9643  -6.5928  -0.2791   5.9426  26.9041 \n",
      "\n",
      "Coefficients:\n",
      "              Estimate Std. Error t value Pr(>|t|)    \n",
      "(Intercept) 18.2691519  2.7265385   6.700 2.15e-10 ***\n",
      "x1          -0.0302633  0.0253865  -1.192    0.235    \n",
      "x2          -0.0004659  0.0010961  -0.425    0.671    \n",
      "x3          -0.0151221  0.0161848  -0.934    0.351    \n",
      "---\n",
      "Signif. codes:  0 '***' 0.001 '**' 0.01 '*' 0.05 '.' 0.1 ' ' 1\n",
      "\n",
      "Residual standard error: 9.421 on 196 degrees of freedom\n",
      "Multiple R-squared:  0.01314,\tAdjusted R-squared:  -0.001964 \n",
      "F-statistic:  0.87 on 3 and 196 DF,  p-value: 0.4576\n",
      "\n",
      "[1] \"y3\"\n",
      "\n",
      "Call:\n",
      "lm(formula = data[[i]] ~ x1 + x2 + x3, data = data)\n",
      "\n",
      "Residuals:\n",
      "    Min      1Q  Median      3Q     Max \n",
      "-34.791  -6.138  -1.310   5.688  37.881 \n",
      "\n",
      "Coefficients:\n",
      "              Estimate Std. Error t value Pr(>|t|)    \n",
      "(Intercept) 11.1985892  2.9553973   3.789 0.000201 ***\n",
      "x1           0.0070096  0.0275173   0.255 0.799196    \n",
      "x2          -0.0005131  0.0011882  -0.432 0.666305    \n",
      "x3           0.0099670  0.0175433   0.568 0.570592    \n",
      "---\n",
      "Signif. codes:  0 '***' 0.001 '**' 0.01 '*' 0.05 '.' 0.1 ' ' 1\n",
      "\n",
      "Residual standard error: 10.21 on 196 degrees of freedom\n",
      "Multiple R-squared:  0.003334,\tAdjusted R-squared:  -0.01192 \n",
      "F-statistic: 0.2186 on 3 and 196 DF,  p-value: 0.8834\n",
      "\n"
     ]
    }
   ],
   "source": [
    "# model 1: y1 ~ x1 + x2 + x3\n",
    "# model 2: y2 ~ x1 + x2 + x3\n",
    "# model 3: y3 ~ x1 + x2 + x3\n",
    "\n",
    "# Method 1\n",
    "for (i in 1:3){  # Ys in columns 1-3\n",
    "  print(names(data[i]))\n",
    "  lm <- lm(data[[i]] ~ x1 + x2 + x3, data = data)\n",
    "  result <- summary(lm)\n",
    "  print(result)\n",
    "}"
   ],
   "metadata": {
    "collapsed": false,
    "pycharm": {
     "name": "#%%\n"
    }
   }
  },
  {
   "cell_type": "code",
   "execution_count": 9,
   "outputs": [
    {
     "data": {
      "text/plain": "Response y1 :\n\nCall:\nlm(formula = y1 ~ x1 + x2 + x3, data = data)\n\nResiduals:\n     Min       1Q   Median       3Q      Max \n-15.4871  -3.6213   0.3281   4.0184  14.4518 \n\nCoefficients:\n             Estimate Std. Error t value Pr(>|t|)    \n(Intercept) 6.5400836  1.4812961   4.415 1.67e-05 ***\nx1          0.0118962  0.0137922   0.863   0.3894    \nx2          0.0004632  0.0005955   0.778   0.4376    \nx3          0.0177226  0.0087930   2.016   0.0452 *  \n---\nSignif. codes:  0 '***' 0.001 '**' 0.01 '*' 0.05 '.' 0.1 ' ' 1\n\nResidual standard error: 5.119 on 196 degrees of freedom\nMultiple R-squared:  0.02771,\tAdjusted R-squared:  0.01282 \nF-statistic: 1.862 on 3 and 196 DF,  p-value: 0.1374\n\n\nResponse y2 :\n\nCall:\nlm(formula = y2 ~ x1 + x2 + x3, data = data)\n\nResiduals:\n     Min       1Q   Median       3Q      Max \n-24.9643  -6.5928  -0.2791   5.9426  26.9041 \n\nCoefficients:\n              Estimate Std. Error t value Pr(>|t|)    \n(Intercept) 18.2691519  2.7265385   6.700 2.15e-10 ***\nx1          -0.0302633  0.0253865  -1.192    0.235    \nx2          -0.0004659  0.0010961  -0.425    0.671    \nx3          -0.0151221  0.0161848  -0.934    0.351    \n---\nSignif. codes:  0 '***' 0.001 '**' 0.01 '*' 0.05 '.' 0.1 ' ' 1\n\nResidual standard error: 9.421 on 196 degrees of freedom\nMultiple R-squared:  0.01314,\tAdjusted R-squared:  -0.001964 \nF-statistic:  0.87 on 3 and 196 DF,  p-value: 0.4576\n\n\nResponse y3 :\n\nCall:\nlm(formula = y3 ~ x1 + x2 + x3, data = data)\n\nResiduals:\n    Min      1Q  Median      3Q     Max \n-34.791  -6.138  -1.310   5.688  37.881 \n\nCoefficients:\n              Estimate Std. Error t value Pr(>|t|)    \n(Intercept) 11.1985892  2.9553973   3.789 0.000201 ***\nx1           0.0070096  0.0275173   0.255 0.799196    \nx2          -0.0005131  0.0011882  -0.432 0.666305    \nx3           0.0099670  0.0175433   0.568 0.570592    \n---\nSignif. codes:  0 '***' 0.001 '**' 0.01 '*' 0.05 '.' 0.1 ' ' 1\n\nResidual standard error: 10.21 on 196 degrees of freedom\nMultiple R-squared:  0.003334,\tAdjusted R-squared:  -0.01192 \nF-statistic: 0.2186 on 3 and 196 DF,  p-value: 0.8834\n\n"
     },
     "metadata": {},
     "output_type": "display_data"
    }
   ],
   "source": [
    "# Method 2\n",
    "lm <- lm(cbind(y1, y2, y3) ~ x1 + x2 + x3, data = data)\n",
    "summary(lm)"
   ],
   "metadata": {
    "collapsed": false,
    "pycharm": {
     "name": "#%%\n"
    }
   }
  },
  {
   "cell_type": "markdown",
   "source": [
    "## Different Ys, different Xs"
   ],
   "metadata": {
    "collapsed": false,
    "pycharm": {
     "name": "#%% md\n"
    }
   }
  },
  {
   "cell_type": "code",
   "execution_count": 12,
   "outputs": [
    {
     "name": "stdout",
     "output_type": "stream",
     "text": [
      "[1] \"x1\"\n",
      "Response y1 :\n",
      "\n",
      "Call:\n",
      "lm(formula = y1 ~ x1, data = data)\n",
      "\n",
      "Residuals:\n",
      "     Min       1Q   Median       3Q      Max \n",
      "-14.4525  -3.7203   0.2322   3.9946  14.7903 \n",
      "\n",
      "Coefficients:\n",
      "            Estimate Std. Error t value Pr(>|t|)    \n",
      "(Intercept)  9.18386    0.76040  12.078   <2e-16 ***\n",
      "x1           0.01353    0.01372   0.986    0.325    \n",
      "---\n",
      "Signif. codes:  0 '***' 0.001 '**' 0.01 '*' 0.05 '.' 0.1 ' ' 1\n",
      "\n",
      "Residual standard error: 5.152 on 198 degrees of freedom\n",
      "Multiple R-squared:  0.004889,\tAdjusted R-squared:  -0.0001365 \n",
      "F-statistic: 0.9728 on 1 and 198 DF,  p-value: 0.3252\n",
      "\n",
      "\n",
      "Response y2 :\n",
      "\n",
      "Call:\n",
      "lm(formula = y2 ~ x1, data = data)\n",
      "\n",
      "Residuals:\n",
      "     Min       1Q   Median       3Q      Max \n",
      "-23.6249  -6.7293  -0.6903   5.8579  27.9805 \n",
      "\n",
      "Coefficients:\n",
      "            Estimate Std. Error t value Pr(>|t|)    \n",
      "(Intercept) 15.92738    1.38714  11.482   <2e-16 ***\n",
      "x1          -0.03147    0.02503  -1.257     0.21    \n",
      "---\n",
      "Signif. codes:  0 '***' 0.001 '**' 0.01 '*' 0.05 '.' 0.1 ' ' 1\n",
      "\n",
      "Residual standard error: 9.398 on 198 degrees of freedom\n",
      "Multiple R-squared:  0.007923,\tAdjusted R-squared:  0.002912 \n",
      "F-statistic: 1.581 on 1 and 198 DF,  p-value: 0.2101\n",
      "\n",
      "\n",
      "Response y3 :\n",
      "\n",
      "Call:\n",
      "lm(formula = y3 ~ x1, data = data)\n",
      "\n",
      "Residuals:\n",
      "    Min      1Q  Median      3Q     Max \n",
      "-35.215  -6.349  -1.090   5.906  37.513 \n",
      "\n",
      "Coefficients:\n",
      "             Estimate Std. Error t value Pr(>|t|)    \n",
      "(Intercept) 11.744501   1.501598   7.821 3.05e-13 ***\n",
      "x1           0.009996   0.027091   0.369    0.713    \n",
      "---\n",
      "Signif. codes:  0 '***' 0.001 '**' 0.01 '*' 0.05 '.' 0.1 ' ' 1\n",
      "\n",
      "Residual standard error: 10.17 on 198 degrees of freedom\n",
      "Multiple R-squared:  0.0006871,\tAdjusted R-squared:  -0.00436 \n",
      "F-statistic: 0.1361 on 1 and 198 DF,  p-value: 0.7125\n",
      "\n",
      "\n",
      "[1] \"x2\"\n",
      "Response y1 :\n",
      "\n",
      "Call:\n",
      "lm(formula = y1 ~ x2, data = data)\n",
      "\n",
      "Residuals:\n",
      "    Min      1Q  Median      3Q     Max \n",
      "-14.642  -4.165   0.302   4.168  14.230 \n",
      "\n",
      "Coefficients:\n",
      "             Estimate Std. Error t value Pr(>|t|)    \n",
      "(Intercept) 9.4485277  0.7432691  12.712   <2e-16 ***\n",
      "x2          0.0003624  0.0005961   0.608    0.544    \n",
      "---\n",
      "Signif. codes:  0 '***' 0.001 '**' 0.01 '*' 0.05 '.' 0.1 ' ' 1\n",
      "\n",
      "Residual standard error: 5.16 on 198 degrees of freedom\n",
      "Multiple R-squared:  0.001863,\tAdjusted R-squared:  -0.003178 \n",
      "F-statistic: 0.3696 on 1 and 198 DF,  p-value: 0.5439\n",
      "\n",
      "\n",
      "Response y2 :\n",
      "\n",
      "Call:\n",
      "lm(formula = y2 ~ x2, data = data)\n",
      "\n",
      "Residuals:\n",
      "     Min       1Q   Median       3Q      Max \n",
      "-24.1815  -6.6321  -0.4806   6.1302  27.3865 \n",
      "\n",
      "Coefficients:\n",
      "              Estimate Std. Error t value Pr(>|t|)    \n",
      "(Intercept) 14.6990555  1.3590030  10.816   <2e-16 ***\n",
      "x2          -0.0002787  0.0010900  -0.256    0.798    \n",
      "---\n",
      "Signif. codes:  0 '***' 0.001 '**' 0.01 '*' 0.05 '.' 0.1 ' ' 1\n",
      "\n",
      "Residual standard error: 9.434 on 198 degrees of freedom\n",
      "Multiple R-squared:  0.0003301,\tAdjusted R-squared:  -0.004719 \n",
      "F-statistic: 0.06538 on 1 and 198 DF,  p-value: 0.7984\n",
      "\n",
      "\n",
      "Response y3 :\n",
      "\n",
      "Call:\n",
      "lm(formula = y3 ~ x2, data = data)\n",
      "\n",
      "Residuals:\n",
      "    Min      1Q  Median      3Q     Max \n",
      "-34.656  -6.325  -1.177   5.748  37.706 \n",
      "\n",
      "Coefficients:\n",
      "              Estimate Std. Error t value Pr(>|t|)    \n",
      "(Intercept) 12.8515505  1.4651765   8.771 8.13e-16 ***\n",
      "x2          -0.0005714  0.0011751  -0.486    0.627    \n",
      "---\n",
      "Signif. codes:  0 '***' 0.001 '**' 0.01 '*' 0.05 '.' 0.1 ' ' 1\n",
      "\n",
      "Residual standard error: 10.17 on 198 degrees of freedom\n",
      "Multiple R-squared:  0.001193,\tAdjusted R-squared:  -0.003852 \n",
      "F-statistic: 0.2365 on 1 and 198 DF,  p-value: 0.6273\n",
      "\n",
      "\n",
      "[1] \"x3\"\n",
      "Response y1 :\n",
      "\n",
      "Call:\n",
      "lm(formula = y1 ~ x3, data = data)\n",
      "\n",
      "Residuals:\n",
      "     Min       1Q   Median       3Q      Max \n",
      "-15.0350  -3.6562   0.3768   3.7988  14.7514 \n",
      "\n",
      "Coefficients:\n",
      "            Estimate Std. Error t value Pr(>|t|)    \n",
      "(Intercept) 7.551933   1.151245   6.560  4.6e-10 ***\n",
      "x3          0.018282   0.008726   2.095   0.0374 *  \n",
      "---\n",
      "Signif. codes:  0 '***' 0.001 '**' 0.01 '*' 0.05 '.' 0.1 ' ' 1\n",
      "\n",
      "Residual standard error: 5.108 on 198 degrees of freedom\n",
      "Multiple R-squared:  0.02169,\tAdjusted R-squared:  0.01675 \n",
      "F-statistic:  4.39 on 1 and 198 DF,  p-value: 0.03743\n",
      "\n",
      "\n",
      "Response y2 :\n",
      "\n",
      "Call:\n",
      "lm(formula = y2 ~ x3, data = data)\n",
      "\n",
      "Residuals:\n",
      "     Min       1Q   Median       3Q      Max \n",
      "-24.9886  -6.5807  -0.0136   5.8592  26.6465 \n",
      "\n",
      "Coefficients:\n",
      "            Estimate Std. Error t value Pr(>|t|)    \n",
      "(Intercept) 16.51407    2.12061   7.787 3.75e-13 ***\n",
      "x3          -0.01691    0.01607  -1.052    0.294    \n",
      "---\n",
      "Signif. codes:  0 '***' 0.001 '**' 0.01 '*' 0.05 '.' 0.1 ' ' 1\n",
      "\n",
      "Residual standard error: 9.41 on 198 degrees of freedom\n",
      "Multiple R-squared:  0.005556,\tAdjusted R-squared:  0.0005335 \n",
      "F-statistic: 1.106 on 1 and 198 DF,  p-value: 0.2942\n",
      "\n",
      "\n",
      "Response y3 :\n",
      "\n",
      "Call:\n",
      "lm(formula = y3 ~ x3, data = data)\n",
      "\n",
      "Residuals:\n",
      "    Min      1Q  Median      3Q     Max \n",
      "-34.918  -6.193  -1.419   5.853  37.570 \n",
      "\n",
      "Coefficients:\n",
      "            Estimate Std. Error t value Pr(>|t|)    \n",
      "(Intercept) 10.89118    2.29146   4.753 3.85e-06 ***\n",
      "x3           0.01069    0.01737   0.616    0.539    \n",
      "---\n",
      "Signif. codes:  0 '***' 0.001 '**' 0.01 '*' 0.05 '.' 0.1 ' ' 1\n",
      "\n",
      "Residual standard error: 10.17 on 198 degrees of freedom\n",
      "Multiple R-squared:  0.001911,\tAdjusted R-squared:  -0.00313 \n",
      "F-statistic: 0.3791 on 1 and 198 DF,  p-value: 0.5388\n",
      "\n",
      "\n"
     ]
    }
   ],
   "source": [
    "# 9 models\n",
    "# y1 ~ x1, y1 ~ x2, y1 ~ x3\n",
    "# y2 ~ x1, y2 ~ x2, y2 ~ x3\n",
    "# y3 ~ x1, y3 ~ x2, y3 ~ x3\n",
    "\n",
    "for (i in 4:6){  # Xs in columns 4-6\n",
    "  print(names(data[i]))\n",
    "  lm <- lm(paste0(\"cbind(y1, y2, y3) ~ \", names(data[i])), data = data)\n",
    "  # can add control variables. e.g., paste0(\"cbind(y1, y2, y3) ~ \", names(data[i]) \"+ control1 + control2\"\n",
    "  result <- summary(lm)\n",
    "  print(result)\n",
    "}"
   ],
   "metadata": {
    "collapsed": false,
    "pycharm": {
     "name": "#%%\n"
    }
   }
  },
  {
   "cell_type": "code",
   "execution_count": null,
   "outputs": [],
   "source": [],
   "metadata": {
    "collapsed": false,
    "pycharm": {
     "name": "#%%\n"
    }
   }
  }
 ],
 "metadata": {
  "kernelspec": {
   "display_name": "R",
   "language": "R",
   "name": "ir"
  },
  "language_info": {
   "codemirror_mode": "r",
   "file_extension": ".r",
   "mimetype": "text/x-r-source",
   "name": "R",
   "pygments_lexer": "r",
   "version": "4.1.3"
  },
  "toc": {
   "base_numbering": 1,
   "nav_menu": {},
   "number_sections": true,
   "sideBar": true,
   "skip_h1_title": false,
   "title_cell": "Table of Contents",
   "title_sidebar": "Contents",
   "toc_cell": false,
   "toc_position": {},
   "toc_section_display": true,
   "toc_window_display": false
  }
 },
 "nbformat": 4,
 "nbformat_minor": 1
}