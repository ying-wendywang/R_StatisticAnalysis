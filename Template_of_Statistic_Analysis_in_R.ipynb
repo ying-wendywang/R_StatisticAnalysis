{
  "nbformat": 4,
  "nbformat_minor": 0,
  "metadata": {
    "colab": {
      "provenance": [],
      "toc_visible": true,
      "authorship_tag": "ABX9TyNeWUjOU1FiMJB+VCXWNd01",
      "include_colab_link": true
    },
    "kernelspec": {
      "name": "ir",
      "display_name": "R"
    },
    "language_info": {
      "name": "R"
    }
  },
  "cells": [
    {
      "cell_type": "markdown",
      "metadata": {
        "id": "view-in-github",
        "colab_type": "text"
      },
      "source": [
        "<a href=\"https://colab.research.google.com/github/ying-wendywang/R_StatisticAnalysis/blob/master/Template_of_Statistic_Analysis_in_R.ipynb\" target=\"_parent\"><img src=\"https://colab.research.google.com/assets/colab-badge.svg\" alt=\"Open In Colab\"/></a>"
      ]
    },
    {
      "cell_type": "markdown",
      "source": [
        "**Templates for Statistic Analysis in R**\n",
        "\n",
        "- read and preprocess data\n",
        "- descriptive analysis\n",
        "- different statistic models (e.g., lm, glm, psm)"
      ],
      "metadata": {
        "id": "tYGXMSvrb5v9"
      }
    },
    {
      "cell_type": "markdown",
      "source": [
        "# Preparation"
      ],
      "metadata": {
        "id": "_XV9zYh4UN8t"
      }
    },
    {
      "cell_type": "markdown",
      "source": [
        "## general setup"
      ],
      "metadata": {
        "id": "gpoc2RNAURWP"
      }
    },
    {
      "cell_type": "code",
      "source": [
        "rm(list=ls())  # clean current workspace\n",
        "options(max.print = 1000)  # length of print"
      ],
      "metadata": {
        "id": "Im_82zDSUQ9m"
      },
      "execution_count": 1,
      "outputs": []
    },
    {
      "cell_type": "markdown",
      "source": [
        "## how to install and import packages?"
      ],
      "metadata": {
        "id": "N3K3VJqlUgwy"
      }
    },
    {
      "cell_type": "code",
      "source": [
        "# Method 1 (recommended): use the pacman package\n",
        "if (!require(\"pacman\")) install.packages(\"pacman\")  # install pacman package\n",
        "pacman::p_load(  # load packages through pacman\n",
        "  readxl,\n",
        "  ggplot2\n",
        ")\n",
        "\n",
        "# Method 2\n",
        "# install.packages(\"ggplot2\")\n",
        "# library(ggplot2)"
      ],
      "metadata": {
        "colab": {
          "base_uri": "https://localhost:8080/"
        },
        "id": "GOC6D28-UjYu",
        "outputId": "6675a5c8-1a99-424d-e754-6b5d04a32f06"
      },
      "execution_count": 3,
      "outputs": [
        {
          "output_type": "stream",
          "name": "stderr",
          "text": [
            "Loading required package: pacman\n",
            "\n"
          ]
        }
      ]
    },
    {
      "cell_type": "markdown",
      "source": [
        "# Data Preparation"
      ],
      "metadata": {
        "id": "bLVE1b4rZ1Qv"
      }
    },
    {
      "cell_type": "markdown",
      "source": [
        "## Read data"
      ],
      "metadata": {
        "id": "o5837FwGUAl-"
      }
    },
    {
      "cell_type": "code",
      "execution_count": 14,
      "metadata": {
        "id": "UNytRxKDT3Na"
      },
      "outputs": [],
      "source": [
        "# data <- readxl::read_excel(\"file_name.xlsx\")  # read xlsx file  # if already imported the \"readxl\" package, \"readxl::\" is not needed\n",
        "# data <- read.csv(\"file_name.csv\")  # read csv file\n",
        "# data <- read.table(\"file_name.txt\")  # read txt file\n",
        "\n",
        "# data(\"mtcars\")  # read R built-in datasets by the name of the dataset, the dataset is named \"mtcars\"\n",
        "# data()  # list all built-in datasets of all loaded packages\n",
        "\n",
        "data <- get(\"mtcars\")  # read R built-in dataset and assign a new name \"data\"\n",
        "# here use the built-in dataset \"mtcars\" as our sample data\n"
      ]
    },
    {
      "cell_type": "markdown",
      "source": [
        "### how to read mulitiple data files?"
      ],
      "metadata": {
        "id": "faKb0UFIYd1j"
      }
    },
    {
      "cell_type": "code",
      "source": [
        "# data_list <- list(\"cars.csv\", \"Boston.csv\")  # names of data files (remember to add directory path when needed. e.g., \"data/cars.csv\")\n",
        "# name_list <- list(\"data_cars\", \"data_Boston\")  # names assigned to data files in R\n",
        "\n",
        "# for(i in seq_along(data_list)){\n",
        "#   assign(name_list[[i]], read.csv(data_list[[i]], header = T))  # read data files and assign names\n",
        "# }"
      ],
      "metadata": {
        "id": "nPBmCX16YhIV"
      },
      "execution_count": null,
      "outputs": []
    },
    {
      "cell_type": "markdown",
      "source": [
        "## View data"
      ],
      "metadata": {
        "id": "MUUg9NpSaJND"
      }
    },
    {
      "cell_type": "code",
      "source": [
        "head(data)  # show the first 6 rows of the data"
      ],
      "metadata": {
        "colab": {
          "base_uri": "https://localhost:8080/",
          "height": 286
        },
        "id": "1W8XlECZaLiz",
        "outputId": "d0526b91-63ba-4975-e49e-8f11bd458dd6"
      },
      "execution_count": 15,
      "outputs": [
        {
          "output_type": "display_data",
          "data": {
            "text/html": [
              "<table class=\"dataframe\">\n",
              "<caption>A data.frame: 6 × 11</caption>\n",
              "<thead>\n",
              "\t<tr><th></th><th scope=col>mpg</th><th scope=col>cyl</th><th scope=col>disp</th><th scope=col>hp</th><th scope=col>drat</th><th scope=col>wt</th><th scope=col>qsec</th><th scope=col>vs</th><th scope=col>am</th><th scope=col>gear</th><th scope=col>carb</th></tr>\n",
              "\t<tr><th></th><th scope=col>&lt;dbl&gt;</th><th scope=col>&lt;dbl&gt;</th><th scope=col>&lt;dbl&gt;</th><th scope=col>&lt;dbl&gt;</th><th scope=col>&lt;dbl&gt;</th><th scope=col>&lt;dbl&gt;</th><th scope=col>&lt;dbl&gt;</th><th scope=col>&lt;dbl&gt;</th><th scope=col>&lt;dbl&gt;</th><th scope=col>&lt;dbl&gt;</th><th scope=col>&lt;dbl&gt;</th></tr>\n",
              "</thead>\n",
              "<tbody>\n",
              "\t<tr><th scope=row>Mazda RX4</th><td>21.0</td><td>6</td><td>160</td><td>110</td><td>3.90</td><td>2.620</td><td>16.46</td><td>0</td><td>1</td><td>4</td><td>4</td></tr>\n",
              "\t<tr><th scope=row>Mazda RX4 Wag</th><td>21.0</td><td>6</td><td>160</td><td>110</td><td>3.90</td><td>2.875</td><td>17.02</td><td>0</td><td>1</td><td>4</td><td>4</td></tr>\n",
              "\t<tr><th scope=row>Datsun 710</th><td>22.8</td><td>4</td><td>108</td><td> 93</td><td>3.85</td><td>2.320</td><td>18.61</td><td>1</td><td>1</td><td>4</td><td>1</td></tr>\n",
              "\t<tr><th scope=row>Hornet 4 Drive</th><td>21.4</td><td>6</td><td>258</td><td>110</td><td>3.08</td><td>3.215</td><td>19.44</td><td>1</td><td>0</td><td>3</td><td>1</td></tr>\n",
              "\t<tr><th scope=row>Hornet Sportabout</th><td>18.7</td><td>8</td><td>360</td><td>175</td><td>3.15</td><td>3.440</td><td>17.02</td><td>0</td><td>0</td><td>3</td><td>2</td></tr>\n",
              "\t<tr><th scope=row>Valiant</th><td>18.1</td><td>6</td><td>225</td><td>105</td><td>2.76</td><td>3.460</td><td>20.22</td><td>1</td><td>0</td><td>3</td><td>1</td></tr>\n",
              "</tbody>\n",
              "</table>\n"
            ],
            "text/markdown": "\nA data.frame: 6 × 11\n\n| <!--/--> | mpg &lt;dbl&gt; | cyl &lt;dbl&gt; | disp &lt;dbl&gt; | hp &lt;dbl&gt; | drat &lt;dbl&gt; | wt &lt;dbl&gt; | qsec &lt;dbl&gt; | vs &lt;dbl&gt; | am &lt;dbl&gt; | gear &lt;dbl&gt; | carb &lt;dbl&gt; |\n|---|---|---|---|---|---|---|---|---|---|---|---|\n| Mazda RX4 | 21.0 | 6 | 160 | 110 | 3.90 | 2.620 | 16.46 | 0 | 1 | 4 | 4 |\n| Mazda RX4 Wag | 21.0 | 6 | 160 | 110 | 3.90 | 2.875 | 17.02 | 0 | 1 | 4 | 4 |\n| Datsun 710 | 22.8 | 4 | 108 |  93 | 3.85 | 2.320 | 18.61 | 1 | 1 | 4 | 1 |\n| Hornet 4 Drive | 21.4 | 6 | 258 | 110 | 3.08 | 3.215 | 19.44 | 1 | 0 | 3 | 1 |\n| Hornet Sportabout | 18.7 | 8 | 360 | 175 | 3.15 | 3.440 | 17.02 | 0 | 0 | 3 | 2 |\n| Valiant | 18.1 | 6 | 225 | 105 | 2.76 | 3.460 | 20.22 | 1 | 0 | 3 | 1 |\n\n",
            "text/latex": "A data.frame: 6 × 11\n\\begin{tabular}{r|lllllllllll}\n  & mpg & cyl & disp & hp & drat & wt & qsec & vs & am & gear & carb\\\\\n  & <dbl> & <dbl> & <dbl> & <dbl> & <dbl> & <dbl> & <dbl> & <dbl> & <dbl> & <dbl> & <dbl>\\\\\n\\hline\n\tMazda RX4 & 21.0 & 6 & 160 & 110 & 3.90 & 2.620 & 16.46 & 0 & 1 & 4 & 4\\\\\n\tMazda RX4 Wag & 21.0 & 6 & 160 & 110 & 3.90 & 2.875 & 17.02 & 0 & 1 & 4 & 4\\\\\n\tDatsun 710 & 22.8 & 4 & 108 &  93 & 3.85 & 2.320 & 18.61 & 1 & 1 & 4 & 1\\\\\n\tHornet 4 Drive & 21.4 & 6 & 258 & 110 & 3.08 & 3.215 & 19.44 & 1 & 0 & 3 & 1\\\\\n\tHornet Sportabout & 18.7 & 8 & 360 & 175 & 3.15 & 3.440 & 17.02 & 0 & 0 & 3 & 2\\\\\n\tValiant & 18.1 & 6 & 225 & 105 & 2.76 & 3.460 & 20.22 & 1 & 0 & 3 & 1\\\\\n\\end{tabular}\n",
            "text/plain": [
              "                  mpg  cyl disp hp  drat wt    qsec  vs am gear carb\n",
              "Mazda RX4         21.0 6   160  110 3.90 2.620 16.46 0  1  4    4   \n",
              "Mazda RX4 Wag     21.0 6   160  110 3.90 2.875 17.02 0  1  4    4   \n",
              "Datsun 710        22.8 4   108   93 3.85 2.320 18.61 1  1  4    1   \n",
              "Hornet 4 Drive    21.4 6   258  110 3.08 3.215 19.44 1  0  3    1   \n",
              "Hornet Sportabout 18.7 8   360  175 3.15 3.440 17.02 0  0  3    2   \n",
              "Valiant           18.1 6   225  105 2.76 3.460 20.22 1  0  3    1   "
            ]
          },
          "metadata": {}
        }
      ]
    },
    {
      "cell_type": "markdown",
      "source": [
        "## Filter data"
      ],
      "metadata": {
        "id": "CHOg817QZ5Ht"
      }
    },
    {
      "cell_type": "code",
      "source": [
        "# pacman::p_load(dplyr)  # the \"%>%\" needs \"dplyr\" package\n",
        "\n",
        "# data_new <- data %>%\n",
        "#   filter(\n",
        "#     mgp >= 0, cyl == 6, vs != 0   # \",\" indicates AND conditions\n",
        "#     mgp >= 0 | cyl == 6  # \"|\" indicates OR conditions\n",
        "#   )"
      ],
      "metadata": {
        "id": "WPPKIPBWZ94x"
      },
      "execution_count": null,
      "outputs": []
    },
    {
      "cell_type": "markdown",
      "source": [
        "## Merge data"
      ],
      "metadata": {
        "id": "L11h641xbrRk"
      }
    },
    {
      "cell_type": "markdown",
      "source": [
        "## Variables"
      ],
      "metadata": {
        "id": "b0im6qwXbs5h"
      }
    },
    {
      "cell_type": "markdown",
      "source": [
        "# Descriptive Analysis"
      ],
      "metadata": {
        "id": "358nvHY4b0vZ"
      }
    }
  ]
}