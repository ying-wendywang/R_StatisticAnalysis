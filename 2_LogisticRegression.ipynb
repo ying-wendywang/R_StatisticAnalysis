{
 "cells": [
  {
   "cell_type": "markdown",
   "metadata": {
    "collapsed": true,
    "pycharm": {
     "name": "#%% md\n"
    }
   },
   "source": [
    "# Logistic Regression\n",
    "(Below Links are Unavailable in GitHub)\n",
    "\n",
    "1. [Introduction](#introduction-to-logistic-regression)\n",
    "2. [Binary Y](#binary-y)\n",
    "3. [Multinomial Y](#multinomial-y)\n",
    "4. [Ordinal Y](#ordinal-y)\n",
    "5. [Proportional Y](#proportional-y)"
   ]
  },
  {
   "cell_type": "markdown",
   "metadata": {
    "pycharm": {
     "name": "#%% md\n"
    }
   },
   "source": [
    "# Introduction to Logistic Regression"
   ]
  },
  {
   "cell_type": "markdown",
   "metadata": {
    "pycharm": {
     "name": "#%% md\n"
    }
   },
   "source": [
    "---\n",
    "Logistic regression is usually used when the dependent variable is dummy (0-1).  \n",
    "Logistic regression models the probability that one sample belongs to a category (0 or 1)"
   ]
  },
  {
   "cell_type": "code",
   "execution_count": 14,
   "metadata": {
    "ExecuteTime": {
     "end_time": "2022-09-25T12:06:00.088179Z",
     "start_time": "2022-09-25T12:06:00.069Z"
    }
   },
   "outputs": [],
   "source": [
    "if (!require(\"pacman\")) install.packages(\"pacman\")\n",
    "pacman::p_load(\n",
    "  AER  # for load the dataset\n",
    "  )"
   ]
  },
  {
   "cell_type": "markdown",
   "metadata": {
    "pycharm": {
     "name": "#%% md\n"
    }
   },
   "source": [
    "# Binary Y"
   ]
  },
  {
   "cell_type": "markdown",
   "metadata": {
    "pycharm": {
     "name": "#%% md\n"
    }
   },
   "source": [
    "## data preparation"
   ]
  },
  {
   "cell_type": "code",
   "execution_count": 22,
   "metadata": {
    "ExecuteTime": {
     "end_time": "2022-09-25T12:08:11.227984Z",
     "start_time": "2022-09-25T12:08:11.207Z"
    }
   },
   "outputs": [],
   "source": [
    "data(\"CreditCard\")  # use the dataset \"CreditCard\" as the sample data\n",
    "assign(\"data_binary\", CreditCard)  # rename it into \"data\""
   ]
  },
  {
   "cell_type": "code",
   "execution_count": 23,
   "metadata": {
    "ExecuteTime": {
     "end_time": "2022-09-25T12:08:44.237910Z",
     "start_time": "2022-09-25T12:08:44.218Z"
    }
   },
   "outputs": [
    {
     "name": "stdout",
     "output_type": "stream",
     "text": [
      "'data.frame':\t1319 obs. of  12 variables:\n",
      " $ card       : Factor w/ 2 levels \"no\",\"yes\": 2 2 2 2 2 2 2 2 2 2 ...\n",
      " $ reports    : num  0 0 0 0 0 0 0 0 0 0 ...\n",
      " $ age        : num  37.7 33.2 33.7 30.5 32.2 ...\n",
      " $ income     : num  4.52 2.42 4.5 2.54 9.79 ...\n",
      " $ share      : num  0.03327 0.00522 0.00416 0.06521 0.06705 ...\n",
      " $ expenditure: num  124.98 9.85 15 137.87 546.5 ...\n",
      " $ owner      : Factor w/ 2 levels \"no\",\"yes\": 2 1 2 1 2 1 1 2 2 1 ...\n",
      " $ selfemp    : Factor w/ 2 levels \"no\",\"yes\": 1 1 1 1 1 1 1 1 1 1 ...\n",
      " $ dependents : num  3 3 4 0 2 0 2 0 0 0 ...\n",
      " $ months     : num  54 34 58 25 64 54 7 77 97 65 ...\n",
      " $ majorcards : num  1 1 1 1 1 1 1 1 1 1 ...\n",
      " $ active     : num  12 13 5 7 5 1 5 3 6 18 ...\n"
     ]
    }
   ],
   "source": [
    "str(data_binary)"
   ]
  },
  {
   "cell_type": "markdown",
   "metadata": {},
   "source": [
    "---  \n",
    "This data set has 1319 observations. All variables and definition are shown below."
   ]
  },
  {
   "cell_type": "markdown",
   "metadata": {
    "pycharm": {
     "name": "#%% md\n"
    }
   },
   "source": [
    "## data description"
   ]
  },
  {
   "cell_type": "code",
   "execution_count": 18,
   "metadata": {
    "ExecuteTime": {
     "end_time": "2022-09-25T12:06:31.788769Z",
     "start_time": "2022-09-25T12:06:31.751Z"
    }
   },
   "outputs": [
    {
     "data": {
      "image/png": "[encoded data removed]",
      "text/plain": [
       "plot without title"
      ]
     },
     "metadata": {
      "image/png": {
       "height": 420,
       "width": 420
      }
     },
     "output_type": "display_data"
    }
   ],
   "source": [
    "plot(data_binary$card)"
   ]
  },
  {
   "cell_type": "markdown",
   "metadata": {
    "pycharm": {
     "name": "#%% md\n"
    }
   },
   "source": [
    "## logit model"
   ]
  },
  {
   "cell_type": "code",
   "execution_count": 19,
   "metadata": {
    "ExecuteTime": {
     "end_time": "2022-09-25T12:06:37.405883Z",
     "start_time": "2022-09-25T12:06:37.383Z"
    }
   },
   "outputs": [
    {
     "data": {
      "text/plain": [
       "\n",
       "Call:\n",
       "glm(formula = card ~ income, family = \"binomial\", data = data_binary)\n",
       "\n",
       "Deviance Residuals: \n",
       "    Min       1Q   Median       3Q      Max  \n",
       "-2.2501   0.5301   0.7005   0.7502   0.8733  \n",
       "\n",
       "Coefficients:\n",
       "            Estimate Std. Error z value Pr(>|z|)    \n",
       "(Intercept)  0.73452    0.15842   4.636 3.55e-06 ***\n",
       "income       0.15582    0.04597   3.390 0.000699 ***\n",
       "---\n",
       "Signif. codes:  0 '***' 0.001 '**' 0.01 '*' 0.05 '.' 0.1 ' ' 1\n",
       "\n",
       "(Dispersion parameter for binomial family taken to be 1)\n",
       "\n",
       "    Null deviance: 1404.6  on 1318  degrees of freedom\n",
       "Residual deviance: 1391.6  on 1317  degrees of freedom\n",
       "AIC: 1395.6\n",
       "\n",
       "Number of Fisher Scoring iterations: 4\n"
      ]
     },
     "metadata": {},
     "output_type": "display_data"
    }
   ],
   "source": [
    "logit1 <- glm(card ~ income, family = \"binomial\", data = data_binary)\n",
    "summary(logit1)"
   ]
  },
  {
   "cell_type": "markdown",
   "metadata": {},
   "source": [
    "# Multinomial Y"
   ]
  },
  {
   "cell_type": "markdown",
   "metadata": {},
   "source": [
    "# Ordinal Y"
   ]
  },
  {
   "cell_type": "code",
   "execution_count": 20,
   "metadata": {
    "ExecuteTime": {
     "end_time": "2022-09-25T12:07:36.974433Z",
     "start_time": "2022-09-25T12:07:36.948Z"
    }
   },
   "outputs": [],
   "source": [
    "data(\"GSS7402\")  \n",
    "assign(\"data_ordinal\", GSS7402)"
   ]
  },
  {
   "cell_type": "code",
   "execution_count": 21,
   "metadata": {
    "ExecuteTime": {
     "end_time": "2022-09-25T12:07:47.245357Z",
     "start_time": "2022-09-25T12:07:47.217Z"
    }
   },
   "outputs": [
    {
     "name": "stdout",
     "output_type": "stream",
     "text": [
      "'data.frame':\t9120 obs. of  10 variables:\n",
      " $ kids         : num  0 1 1 2 2 0 0 0 1 3 ...\n",
      " $ age          : int  25 30 55 57 71 19 71 30 35 51 ...\n",
      " $ education    : int  14 13 2 16 12 13 12 12 12 12 ...\n",
      " $ year         : int  2002 2002 2002 2002 2002 2002 2002 2002 2002 2002 ...\n",
      " $ siblings     : int  1 4 1 1 6 1 1 5 0 1 ...\n",
      " $ agefirstbirth: num  NA 19 27 22 29 NA NA NA 21 20 ...\n",
      " $ ethnicity    : Factor w/ 2 levels \"other\",\"cauc\": 2 2 2 2 2 1 2 1 2 2 ...\n",
      " $ city16       : Factor w/ 2 levels \"no\",\"yes\": 1 2 1 1 2 2 1 1 2 2 ...\n",
      " $ lowincome16  : Factor w/ 2 levels \"no\",\"yes\": 1 1 1 1 1 1 1 1 1 1 ...\n",
      " $ immigrant    : Factor w/ 2 levels \"no\",\"yes\": 1 1 2 1 1 1 1 2 2 1 ...\n",
      " - attr(*, \"datalabel\")= chr \"\"\n",
      " - attr(*, \"time.stamp\")= chr \"13 Jun 2005 18:30\"\n",
      " - attr(*, \"formats\")= chr [1:10] \"%8.0g\" \"%8.0g\" \"%8.0g\" \"%8.0g\" ...\n",
      " - attr(*, \"types\")= int [1:10] 251 251 251 252 251 254 254 254 254 254\n",
      " - attr(*, \"val.labels\")= chr [1:10] \"childs\" \"age\" \"educ\" \"\" ...\n",
      " - attr(*, \"var.labels\")= chr [1:10] \"number of children\" \"age of respondent\" \"highest year of school completed\" \"gss year for this respondent\" ...\n",
      " - attr(*, \"version\")= int -7\n",
      " - attr(*, \"label.table\")=List of 4\n",
      "  ..$ educ  : Named num [1:3] 97 98 99\n",
      "  .. ..- attr(*, \"names\")= chr [1:3] \"nap\" \"dk\" \"na\"\n",
      "  ..$ age   : Named num [1:2] 98 99\n",
      "  .. ..- attr(*, \"names\")= chr [1:2] \"dk\" \"na\"\n",
      "  ..$ childs: Named num [1:10] 0 1 2 3 4 5 6 7 8 9\n",
      "  .. ..- attr(*, \"names\")= chr [1:10] \"none\" \"one\" \"two\" \"three\" ...\n",
      "  ..$ sibs  : Named num [1:2] 98 99\n",
      "  .. ..- attr(*, \"names\")= chr [1:2] \"dk\" \"na\"\n"
     ]
    }
   ],
   "source": [
    "str(data_ordinal)"
   ]
  },
  {
   "cell_type": "code",
   "execution_count": 24,
   "metadata": {
    "ExecuteTime": {
     "end_time": "2022-09-25T12:09:04.360284Z",
     "start_time": "2022-09-25T12:09:04.314Z"
    }
   },
   "outputs": [
    {
     "data": {
      "image/png": "[encoded data removed]",
      "text/plain": [
       "Plot with title \"Histogram of data_ordinal$kids\""
      ]
     },
     "metadata": {
      "image/png": {
       "height": 420,
       "width": 420
      }
     },
     "output_type": "display_data"
    }
   ],
   "source": [
    "hist(data_ordinal$kids)"
   ]
  },
  {
   "cell_type": "markdown",
   "metadata": {
    "pycharm": {
     "name": "#%% md\n"
    }
   },
   "source": [
    "# Proportional Y"
   ]
  },
  {
   "cell_type": "markdown",
   "metadata": {
    "pycharm": {
     "name": "#%% md\n"
    }
   },
   "source": [
    "---\n",
    "Logistic regressions can be also used with proportional response data."
   ]
  }
 ],
 "metadata": {
  "kernelspec": {
   "display_name": "R",
   "language": "R",
   "name": "ir"
  },
  "language_info": {
   "codemirror_mode": "r",
   "file_extension": ".r",
   "mimetype": "text/x-r-source",
   "name": "R",
   "pygments_lexer": "r",
   "version": "4.1.3"
  },
  "toc": {
   "base_numbering": 1,
   "nav_menu": {},
   "number_sections": true,
   "sideBar": true,
   "skip_h1_title": false,
   "title_cell": "Table of Contents",
   "title_sidebar": "Contents",
   "toc_cell": false,
   "toc_position": {
    "height": "calc(100% - 180px)",
    "left": "10px",
    "top": "150px",
    "width": "307.2px"
   },
   "toc_section_display": true,
   "toc_window_display": true
  }
 },
 "nbformat": 4,
 "nbformat_minor": 1
}