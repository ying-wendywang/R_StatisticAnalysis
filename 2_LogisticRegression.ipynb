{
 "cells": [
  {
   "cell_type": "markdown",
   "metadata": {
    "collapsed": true,
    "pycharm": {
     "name": "#%% md\n"
    }
   },
   "source": [
    "# Logistic Regression\n",
    "(Below Links are Unavailable in GitHub)\n",
    "\n",
    "1. [Introduction](#introduction-to-logistic-regression)\n",
    "2. [Binary Y](#binary-y)\n",
    "3. [Multinomial Y](#multinomial-y)\n",
    "4. [Ordinal Y](#ordinal-y)\n",
    "5. [Proportional Y](#proportional-y)"
   ]
  },
  {
   "cell_type": "markdown",
   "metadata": {
    "pycharm": {
     "name": "#%% md\n"
    }
   },
   "source": [
    "## Introduction to Logistic Regression"
   ]
  },
  {
   "cell_type": "markdown",
   "metadata": {
    "pycharm": {
     "name": "#%% md\n"
    }
   },
   "source": [
    "---\n",
    "Logistic regression is usually used when the dependent variable is dummy (0-1).  \n",
    "Logistic regression models the probability that one sample belongs to a category (0 or 1)"
   ]
  },
  {
   "cell_type": "markdown",
   "metadata": {
    "pycharm": {
     "name": "#%% md\n"
    }
   },
   "source": [
    "## Binary Y"
   ]
  },
  {
   "cell_type": "markdown",
   "metadata": {
    "pycharm": {
     "name": "#%% md\n"
    }
   },
   "source": [
    "### data preparation"
   ]
  },
  {
   "cell_type": "code",
   "execution_count": 30,
   "metadata": {
    "ExecuteTime": {
     "end_time": "2022-09-24T13:37:45.060548Z",
     "start_time": "2022-09-24T13:37:45.039Z"
    }
   },
   "outputs": [],
   "source": [
    "if (!require(\"pacman\")) install.packages(\"pacman\")\n",
    "pacman::p_load(\n",
    "  AER  # for load the dataset\n",
    "  )"
   ]
  },
  {
   "cell_type": "code",
   "execution_count": 43,
   "metadata": {
    "ExecuteTime": {
     "end_time": "2022-09-24T13:45:38.143008Z",
     "start_time": "2022-09-24T13:45:38.116Z"
    }
   },
   "outputs": [],
   "source": [
    "data(\"CPS1985\")  # use the dataset \"CPS1985\" as the sample data\n",
    "assign(\"data\", CPS1985)  # rename it into \"data\""
   ]
  },
  {
   "cell_type": "code",
   "execution_count": 44,
   "metadata": {
    "ExecuteTime": {
     "end_time": "2022-09-24T13:45:40.185863Z",
     "start_time": "2022-09-24T13:45:40.166Z"
    }
   },
   "outputs": [
    {
     "name": "stdout",
     "output_type": "stream",
     "text": [
      "'data.frame':\t534 obs. of  11 variables:\n",
      " $ wage      : num  5.1 4.95 6.67 4 7.5 ...\n",
      " $ education : num  8 9 12 12 12 13 10 12 16 12 ...\n",
      " $ experience: num  21 42 1 4 17 9 27 9 11 9 ...\n",
      " $ age       : num  35 57 19 22 35 28 43 27 33 27 ...\n",
      " $ ethnicity : Factor w/ 3 levels \"cauc\",\"hispanic\",..: 2 1 1 1 1 1 1 1 1 1 ...\n",
      " $ region    : Factor w/ 2 levels \"south\",\"other\": 2 2 2 2 2 2 1 2 2 2 ...\n",
      " $ gender    : Factor w/ 2 levels \"male\",\"female\": 2 2 1 1 1 1 1 1 1 1 ...\n",
      " $ occupation: Factor w/ 6 levels \"worker\",\"technical\",..: 1 1 1 1 1 1 1 1 1 1 ...\n",
      " $ sector    : Factor w/ 3 levels \"manufacturing\",..: 1 1 1 3 3 3 3 3 1 3 ...\n",
      " $ union     : Factor w/ 2 levels \"no\",\"yes\": 1 1 1 1 1 2 1 1 1 1 ...\n",
      " $ married   : Factor w/ 2 levels \"no\",\"yes\": 2 2 1 1 2 1 1 1 2 1 ...\n"
     ]
    }
   ],
   "source": [
    "str(data)"
   ]
  },
  {
   "cell_type": "markdown",
   "metadata": {},
   "source": [
    "---  \n",
    "This data set has 534 observations. All variables and definition are shown below."
   ]
  },
  {
   "cell_type": "markdown",
   "metadata": {
    "pycharm": {
     "name": "#%% md\n"
    }
   },
   "source": [
    "### data description"
   ]
  },
  {
   "cell_type": "code",
   "execution_count": 45,
   "metadata": {
    "ExecuteTime": {
     "end_time": "2022-09-24T13:48:07.581182Z",
     "start_time": "2022-09-24T13:48:07.528Z"
    }
   },
   "outputs": [
    {
     "data": {
      "image/png": "[encoded data removed]",
      "text/plain": [
       "Plot with title \"Histogram of data$wage\""
      ]
     },
     "metadata": {
      "image/png": {
       "height": 420,
       "width": 420
      }
     },
     "output_type": "display_data"
    }
   ],
   "source": [
    "hist(data$wage)"
   ]
  },
  {
   "cell_type": "markdown",
   "metadata": {},
   "source": [
    "---  \n",
    "Since we are interested in the binary Y, we transform the Y (wage) into a binary variable called \"h_wage\". "
   ]
  },
  {
   "cell_type": "markdown",
   "metadata": {
    "pycharm": {
     "name": "#%% md\n"
    }
   },
   "source": [
    "### logit model"
   ]
  },
  {
   "cell_type": "markdown",
   "metadata": {},
   "source": [
    "## Multinomial Y"
   ]
  },
  {
   "cell_type": "markdown",
   "metadata": {},
   "source": [
    "## Ordinal Y"
   ]
  },
  {
   "cell_type": "markdown",
   "metadata": {
    "pycharm": {
     "name": "#%% md\n"
    }
   },
   "source": [
    "## Proportional Y"
   ]
  },
  {
   "cell_type": "markdown",
   "metadata": {
    "pycharm": {
     "name": "#%% md\n"
    }
   },
   "source": [
    "---\n",
    "Logistic regressions can be also used with proportional response data."
   ]
  }
 ],
 "metadata": {
  "kernelspec": {
   "display_name": "R",
   "language": "R",
   "name": "ir"
  },
  "language_info": {
   "codemirror_mode": "r",
   "file_extension": ".r",
   "mimetype": "text/x-r-source",
   "name": "R",
   "pygments_lexer": "r",
   "version": "4.1.3"
  },
  "toc": {
   "base_numbering": 1,
   "nav_menu": {},
   "number_sections": true,
   "sideBar": true,
   "skip_h1_title": false,
   "title_cell": "Table of Contents",
   "title_sidebar": "Contents",
   "toc_cell": false,
   "toc_position": {},
   "toc_section_display": true,
   "toc_window_display": false
  }
 },
 "nbformat": 4,
 "nbformat_minor": 1
}